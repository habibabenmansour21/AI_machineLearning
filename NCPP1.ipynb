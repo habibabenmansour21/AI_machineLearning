{
 "cells": [
  {
   "cell_type": "code",
   "execution_count": 109,
   "id": "32bfe545",
   "metadata": {},
   "outputs": [],
   "source": [
    "import numpy as np\n",
    "import pandas as pd\n",
    "import matplotlib.pyplot as plt\n",
    "import seaborn as sns"
   ]
  },
  {
   "cell_type": "code",
   "execution_count": 110,
   "id": "713d693c",
   "metadata": {},
   "outputs": [
    {
     "data": {
      "text/html": [
       "<div>\n",
       "<style scoped>\n",
       "    .dataframe tbody tr th:only-of-type {\n",
       "        vertical-align: middle;\n",
       "    }\n",
       "\n",
       "    .dataframe tbody tr th {\n",
       "        vertical-align: top;\n",
       "    }\n",
       "\n",
       "    .dataframe thead th {\n",
       "        text-align: right;\n",
       "    }\n",
       "</style>\n",
       "<table border=\"1\" class=\"dataframe\">\n",
       "  <thead>\n",
       "    <tr style=\"text-align: right;\">\n",
       "      <th></th>\n",
       "      <th>Unnamed: 0</th>\n",
       "      <th>Make</th>\n",
       "      <th>Year of manufacture</th>\n",
       "      <th>Condition</th>\n",
       "      <th>Mileage</th>\n",
       "      <th>Engine Size</th>\n",
       "      <th>Fuel</th>\n",
       "      <th>Transmission</th>\n",
       "      <th>Price</th>\n",
       "      <th>Build</th>\n",
       "    </tr>\n",
       "  </thead>\n",
       "  <tbody>\n",
       "    <tr>\n",
       "      <th>0</th>\n",
       "      <td>0</td>\n",
       "      <td>Toyota</td>\n",
       "      <td>2007.0</td>\n",
       "      <td>Nigerian Used</td>\n",
       "      <td>166418.0</td>\n",
       "      <td>2400.0</td>\n",
       "      <td>Petrol</td>\n",
       "      <td>Automatic</td>\n",
       "      <td>3,120,000</td>\n",
       "      <td>NaN</td>\n",
       "    </tr>\n",
       "    <tr>\n",
       "      <th>1</th>\n",
       "      <td>1</td>\n",
       "      <td>Lexus</td>\n",
       "      <td>NaN</td>\n",
       "      <td>NaN</td>\n",
       "      <td>138024.0</td>\n",
       "      <td>NaN</td>\n",
       "      <td>NaN</td>\n",
       "      <td>Automatic</td>\n",
       "      <td>5,834,000</td>\n",
       "      <td>NaN</td>\n",
       "    </tr>\n",
       "    <tr>\n",
       "      <th>2</th>\n",
       "      <td>2</td>\n",
       "      <td>Mercedes-Benz</td>\n",
       "      <td>2008.0</td>\n",
       "      <td>Nigerian Used</td>\n",
       "      <td>376807.0</td>\n",
       "      <td>3000.0</td>\n",
       "      <td>Petrol</td>\n",
       "      <td>Automatic</td>\n",
       "      <td>3,640,000</td>\n",
       "      <td>NaN</td>\n",
       "    </tr>\n",
       "    <tr>\n",
       "      <th>3</th>\n",
       "      <td>3</td>\n",
       "      <td>Lexus</td>\n",
       "      <td>NaN</td>\n",
       "      <td>NaN</td>\n",
       "      <td>213362.0</td>\n",
       "      <td>NaN</td>\n",
       "      <td>NaN</td>\n",
       "      <td>Automatic</td>\n",
       "      <td>3,594,000</td>\n",
       "      <td>NaN</td>\n",
       "    </tr>\n",
       "    <tr>\n",
       "      <th>4</th>\n",
       "      <td>4</td>\n",
       "      <td>Mercedes-Benz</td>\n",
       "      <td>NaN</td>\n",
       "      <td>NaN</td>\n",
       "      <td>106199.0</td>\n",
       "      <td>NaN</td>\n",
       "      <td>NaN</td>\n",
       "      <td>Automatic</td>\n",
       "      <td>8,410,000</td>\n",
       "      <td>NaN</td>\n",
       "    </tr>\n",
       "    <tr>\n",
       "      <th>...</th>\n",
       "      <td>...</td>\n",
       "      <td>...</td>\n",
       "      <td>...</td>\n",
       "      <td>...</td>\n",
       "      <td>...</td>\n",
       "      <td>...</td>\n",
       "      <td>...</td>\n",
       "      <td>...</td>\n",
       "      <td>...</td>\n",
       "      <td>...</td>\n",
       "    </tr>\n",
       "    <tr>\n",
       "      <th>4090</th>\n",
       "      <td>4090</td>\n",
       "      <td>Honda</td>\n",
       "      <td>2004.0</td>\n",
       "      <td>Nigerian Used</td>\n",
       "      <td>207446.0</td>\n",
       "      <td>3500.0</td>\n",
       "      <td>Petrol</td>\n",
       "      <td>Automatic</td>\n",
       "      <td>1,125,000</td>\n",
       "      <td>NaN</td>\n",
       "    </tr>\n",
       "    <tr>\n",
       "      <th>4091</th>\n",
       "      <td>4091</td>\n",
       "      <td>Toyota</td>\n",
       "      <td>2005.0</td>\n",
       "      <td>Nigerian Used</td>\n",
       "      <td>106914.0</td>\n",
       "      <td>1800.0</td>\n",
       "      <td>Petrol</td>\n",
       "      <td>Automatic</td>\n",
       "      <td>2,643,750</td>\n",
       "      <td>NaN</td>\n",
       "    </tr>\n",
       "    <tr>\n",
       "      <th>4092</th>\n",
       "      <td>4092</td>\n",
       "      <td>Honda</td>\n",
       "      <td>2006.0</td>\n",
       "      <td>Nigerian Used</td>\n",
       "      <td>247149.0</td>\n",
       "      <td>1800.0</td>\n",
       "      <td>Petrol</td>\n",
       "      <td>Automatic</td>\n",
       "      <td>1,462,500</td>\n",
       "      <td>NaN</td>\n",
       "    </tr>\n",
       "    <tr>\n",
       "      <th>4093</th>\n",
       "      <td>4093</td>\n",
       "      <td>Toyota</td>\n",
       "      <td>2007.0</td>\n",
       "      <td>Nigerian Used</td>\n",
       "      <td>249325.0</td>\n",
       "      <td>2500.0</td>\n",
       "      <td>Petrol</td>\n",
       "      <td>Automatic</td>\n",
       "      <td>2,475,000</td>\n",
       "      <td>NaN</td>\n",
       "    </tr>\n",
       "    <tr>\n",
       "      <th>4094</th>\n",
       "      <td>4094</td>\n",
       "      <td>Toyota</td>\n",
       "      <td>2013.0</td>\n",
       "      <td>Foreign Used</td>\n",
       "      <td>235184.0</td>\n",
       "      <td>2500.0</td>\n",
       "      <td>Petrol</td>\n",
       "      <td>Automatic</td>\n",
       "      <td>6,300,000</td>\n",
       "      <td>NaN</td>\n",
       "    </tr>\n",
       "  </tbody>\n",
       "</table>\n",
       "<p>4095 rows × 10 columns</p>\n",
       "</div>"
      ],
      "text/plain": [
       "      Unnamed: 0           Make  Year of manufacture      Condition   Mileage  \\\n",
       "0              0         Toyota               2007.0  Nigerian Used  166418.0   \n",
       "1              1          Lexus                  NaN            NaN  138024.0   \n",
       "2              2  Mercedes-Benz               2008.0  Nigerian Used  376807.0   \n",
       "3              3          Lexus                  NaN            NaN  213362.0   \n",
       "4              4  Mercedes-Benz                  NaN            NaN  106199.0   \n",
       "...          ...            ...                  ...            ...       ...   \n",
       "4090        4090          Honda               2004.0  Nigerian Used  207446.0   \n",
       "4091        4091         Toyota               2005.0  Nigerian Used  106914.0   \n",
       "4092        4092          Honda               2006.0  Nigerian Used  247149.0   \n",
       "4093        4093         Toyota               2007.0  Nigerian Used  249325.0   \n",
       "4094        4094         Toyota               2013.0   Foreign Used  235184.0   \n",
       "\n",
       "      Engine Size    Fuel Transmission      Price Build  \n",
       "0          2400.0  Petrol    Automatic  3,120,000   NaN  \n",
       "1             NaN     NaN    Automatic  5,834,000   NaN  \n",
       "2          3000.0  Petrol    Automatic  3,640,000   NaN  \n",
       "3             NaN     NaN    Automatic  3,594,000   NaN  \n",
       "4             NaN     NaN    Automatic  8,410,000   NaN  \n",
       "...           ...     ...          ...        ...   ...  \n",
       "4090       3500.0  Petrol    Automatic  1,125,000   NaN  \n",
       "4091       1800.0  Petrol    Automatic  2,643,750   NaN  \n",
       "4092       1800.0  Petrol    Automatic  1,462,500   NaN  \n",
       "4093       2500.0  Petrol    Automatic  2,475,000   NaN  \n",
       "4094       2500.0  Petrol    Automatic  6,300,000   NaN  \n",
       "\n",
       "[4095 rows x 10 columns]"
      ]
     },
     "execution_count": 110,
     "metadata": {},
     "output_type": "execute_result"
    }
   ],
   "source": [
    "data = pd.read_csv('Nigerian_Car_Prices.csv')\n",
    "data"
   ]
  },
  {
   "cell_type": "code",
   "execution_count": 111,
   "id": "0e37dfe6",
   "metadata": {},
   "outputs": [
    {
     "data": {
      "text/html": [
       "<div>\n",
       "<style scoped>\n",
       "    .dataframe tbody tr th:only-of-type {\n",
       "        vertical-align: middle;\n",
       "    }\n",
       "\n",
       "    .dataframe tbody tr th {\n",
       "        vertical-align: top;\n",
       "    }\n",
       "\n",
       "    .dataframe thead th {\n",
       "        text-align: right;\n",
       "    }\n",
       "</style>\n",
       "<table border=\"1\" class=\"dataframe\">\n",
       "  <thead>\n",
       "    <tr style=\"text-align: right;\">\n",
       "      <th></th>\n",
       "      <th>Unnamed: 0</th>\n",
       "      <th>Year of manufacture</th>\n",
       "      <th>Mileage</th>\n",
       "      <th>Engine Size</th>\n",
       "    </tr>\n",
       "  </thead>\n",
       "  <tbody>\n",
       "    <tr>\n",
       "      <th>count</th>\n",
       "      <td>4095.000000</td>\n",
       "      <td>3617.000000</td>\n",
       "      <td>4.024000e+03</td>\n",
       "      <td>3584.000000</td>\n",
       "    </tr>\n",
       "    <tr>\n",
       "      <th>mean</th>\n",
       "      <td>2047.000000</td>\n",
       "      <td>2007.898535</td>\n",
       "      <td>1.825337e+05</td>\n",
       "      <td>3274.976562</td>\n",
       "    </tr>\n",
       "    <tr>\n",
       "      <th>std</th>\n",
       "      <td>1182.269005</td>\n",
       "      <td>4.300126</td>\n",
       "      <td>2.109233e+05</td>\n",
       "      <td>7693.489588</td>\n",
       "    </tr>\n",
       "    <tr>\n",
       "      <th>min</th>\n",
       "      <td>0.000000</td>\n",
       "      <td>1992.000000</td>\n",
       "      <td>1.000000e+00</td>\n",
       "      <td>3.000000</td>\n",
       "    </tr>\n",
       "    <tr>\n",
       "      <th>25%</th>\n",
       "      <td>1023.500000</td>\n",
       "      <td>2005.000000</td>\n",
       "      <td>1.020640e+05</td>\n",
       "      <td>2000.000000</td>\n",
       "    </tr>\n",
       "    <tr>\n",
       "      <th>50%</th>\n",
       "      <td>2047.000000</td>\n",
       "      <td>2008.000000</td>\n",
       "      <td>1.613525e+05</td>\n",
       "      <td>2500.000000</td>\n",
       "    </tr>\n",
       "    <tr>\n",
       "      <th>75%</th>\n",
       "      <td>3070.500000</td>\n",
       "      <td>2011.000000</td>\n",
       "      <td>2.319522e+05</td>\n",
       "      <td>3500.000000</td>\n",
       "    </tr>\n",
       "    <tr>\n",
       "      <th>max</th>\n",
       "      <td>4094.000000</td>\n",
       "      <td>2021.000000</td>\n",
       "      <td>9.976050e+06</td>\n",
       "      <td>371000.000000</td>\n",
       "    </tr>\n",
       "  </tbody>\n",
       "</table>\n",
       "</div>"
      ],
      "text/plain": [
       "        Unnamed: 0  Year of manufacture       Mileage    Engine Size\n",
       "count  4095.000000          3617.000000  4.024000e+03    3584.000000\n",
       "mean   2047.000000          2007.898535  1.825337e+05    3274.976562\n",
       "std    1182.269005             4.300126  2.109233e+05    7693.489588\n",
       "min       0.000000          1992.000000  1.000000e+00       3.000000\n",
       "25%    1023.500000          2005.000000  1.020640e+05    2000.000000\n",
       "50%    2047.000000          2008.000000  1.613525e+05    2500.000000\n",
       "75%    3070.500000          2011.000000  2.319522e+05    3500.000000\n",
       "max    4094.000000          2021.000000  9.976050e+06  371000.000000"
      ]
     },
     "execution_count": 111,
     "metadata": {},
     "output_type": "execute_result"
    }
   ],
   "source": [
    "data.describe()"
   ]
  },
  {
   "cell_type": "code",
   "execution_count": 112,
   "id": "5bee466b",
   "metadata": {},
   "outputs": [
    {
     "name": "stdout",
     "output_type": "stream",
     "text": [
      "<class 'pandas.core.frame.DataFrame'>\n",
      "RangeIndex: 4095 entries, 0 to 4094\n",
      "Data columns (total 10 columns):\n",
      " #   Column               Non-Null Count  Dtype  \n",
      "---  ------               --------------  -----  \n",
      " 0   Unnamed: 0           4095 non-null   int64  \n",
      " 1   Make                 4095 non-null   object \n",
      " 2   Year of manufacture  3617 non-null   float64\n",
      " 3   Condition            3616 non-null   object \n",
      " 4   Mileage              4024 non-null   float64\n",
      " 5   Engine Size          3584 non-null   float64\n",
      " 6   Fuel                 3607 non-null   object \n",
      " 7   Transmission         4075 non-null   object \n",
      " 8   Price                4095 non-null   object \n",
      " 9   Build                1127 non-null   object \n",
      "dtypes: float64(3), int64(1), object(6)\n",
      "memory usage: 320.1+ KB\n"
     ]
    }
   ],
   "source": [
    "data.info()"
   ]
  },
  {
   "cell_type": "code",
   "execution_count": 113,
   "id": "ba652225",
   "metadata": {},
   "outputs": [],
   "source": [
    "data['Price'] = data['Price'].str.replace(',', '').astype(float)\n"
   ]
  },
  {
   "cell_type": "code",
   "execution_count": 114,
   "id": "91e4cc3c",
   "metadata": {},
   "outputs": [
    {
     "data": {
      "text/plain": [
       "Unnamed: 0                0\n",
       "Make                      0\n",
       "Year of manufacture     478\n",
       "Condition               479\n",
       "Mileage                  71\n",
       "Engine Size             511\n",
       "Fuel                    488\n",
       "Transmission             20\n",
       "Price                     0\n",
       "Build                  2968\n",
       "dtype: int64"
      ]
     },
     "execution_count": 114,
     "metadata": {},
     "output_type": "execute_result"
    }
   ],
   "source": [
    "data.isnull().sum()"
   ]
  },
  {
   "cell_type": "code",
   "execution_count": 115,
   "id": "6e1e14a2",
   "metadata": {},
   "outputs": [
    {
     "data": {
      "text/plain": [
       "2007.0    436\n",
       "2008.0    364\n",
       "2006.0    279\n",
       "2009.0    277\n",
       "2010.0    277\n",
       "2004.0    246\n",
       "2005.0    236\n",
       "2011.0    215\n",
       "2003.0    184\n",
       "2013.0    182\n",
       "2012.0    181\n",
       "2014.0    144\n",
       "2002.0    132\n",
       "2015.0     93\n",
       "2001.0     85\n",
       "2000.0     56\n",
       "2016.0     53\n",
       "1999.0     43\n",
       "2017.0     39\n",
       "2018.0     26\n",
       "1998.0     19\n",
       "1997.0     13\n",
       "2020.0     12\n",
       "2019.0     10\n",
       "1995.0      5\n",
       "1996.0      4\n",
       "2021.0      3\n",
       "1992.0      2\n",
       "1994.0      1\n",
       "Name: Year of manufacture, dtype: int64"
      ]
     },
     "execution_count": 115,
     "metadata": {},
     "output_type": "execute_result"
    }
   ],
   "source": [
    "data['Year of manufacture'].value_counts()"
   ]
  },
  {
   "cell_type": "code",
   "execution_count": 116,
   "id": "a85e1a4d",
   "metadata": {},
   "outputs": [],
   "source": [
    "data['Year of manufacture']=data['Year of manufacture'].fillna(2007)"
   ]
  },
  {
   "cell_type": "code",
   "execution_count": 117,
   "id": "8b8661b8",
   "metadata": {},
   "outputs": [
    {
     "data": {
      "text/plain": [
       "Unnamed: 0                0\n",
       "Make                      0\n",
       "Year of manufacture       0\n",
       "Condition               479\n",
       "Mileage                  71\n",
       "Engine Size             511\n",
       "Fuel                    488\n",
       "Transmission             20\n",
       "Price                     0\n",
       "Build                  2968\n",
       "dtype: int64"
      ]
     },
     "execution_count": 117,
     "metadata": {},
     "output_type": "execute_result"
    }
   ],
   "source": [
    "data.isnull().sum()"
   ]
  },
  {
   "cell_type": "code",
   "execution_count": 118,
   "id": "a5120f42",
   "metadata": {},
   "outputs": [
    {
     "data": {
      "text/plain": [
       "Nigerian Used    2521\n",
       "Foreign Used     1090\n",
       "Brand New           5\n",
       "Name: Condition, dtype: int64"
      ]
     },
     "execution_count": 118,
     "metadata": {},
     "output_type": "execute_result"
    }
   ],
   "source": [
    "data['Condition'].value_counts()"
   ]
  },
  {
   "cell_type": "code",
   "execution_count": 119,
   "id": "b3508119",
   "metadata": {},
   "outputs": [],
   "source": [
    "data['Condition']=data['Condition'].fillna('Nigerian Used')"
   ]
  },
  {
   "cell_type": "code",
   "execution_count": 120,
   "id": "ed2cfd50",
   "metadata": {},
   "outputs": [
    {
     "data": {
      "text/plain": [
       "Unnamed: 0                0\n",
       "Make                      0\n",
       "Year of manufacture       0\n",
       "Condition                 0\n",
       "Mileage                  71\n",
       "Engine Size             511\n",
       "Fuel                    488\n",
       "Transmission             20\n",
       "Price                     0\n",
       "Build                  2968\n",
       "dtype: int64"
      ]
     },
     "execution_count": 120,
     "metadata": {},
     "output_type": "execute_result"
    }
   ],
   "source": [
    "data.isnull().sum()"
   ]
  },
  {
   "cell_type": "code",
   "execution_count": 121,
   "id": "439a3240",
   "metadata": {},
   "outputs": [],
   "source": [
    "data['Mileage'].fillna(data['Mileage'].mean(),inplace=True)"
   ]
  },
  {
   "cell_type": "code",
   "execution_count": 122,
   "id": "efec2951",
   "metadata": {
    "scrolled": true
   },
   "outputs": [
    {
     "data": {
      "text/plain": [
       "Unnamed: 0                0\n",
       "Make                      0\n",
       "Year of manufacture       0\n",
       "Condition                 0\n",
       "Mileage                   0\n",
       "Engine Size             511\n",
       "Fuel                    488\n",
       "Transmission             20\n",
       "Price                     0\n",
       "Build                  2968\n",
       "dtype: int64"
      ]
     },
     "execution_count": 122,
     "metadata": {},
     "output_type": "execute_result"
    }
   ],
   "source": [
    "data.isnull().sum()"
   ]
  },
  {
   "cell_type": "code",
   "execution_count": 123,
   "id": "5ec275d3",
   "metadata": {},
   "outputs": [],
   "source": [
    "data['Engine Size'].fillna(data['Engine Size'].mean(),inplace=True)"
   ]
  },
  {
   "cell_type": "code",
   "execution_count": 124,
   "id": "da339380",
   "metadata": {},
   "outputs": [
    {
     "data": {
      "text/plain": [
       "Unnamed: 0                0\n",
       "Make                      0\n",
       "Year of manufacture       0\n",
       "Condition                 0\n",
       "Mileage                   0\n",
       "Engine Size               0\n",
       "Fuel                    488\n",
       "Transmission             20\n",
       "Price                     0\n",
       "Build                  2968\n",
       "dtype: int64"
      ]
     },
     "execution_count": 124,
     "metadata": {},
     "output_type": "execute_result"
    }
   ],
   "source": [
    "data.isnull().sum()"
   ]
  },
  {
   "cell_type": "code",
   "execution_count": 125,
   "id": "56825ce0",
   "metadata": {},
   "outputs": [
    {
     "data": {
      "text/plain": [
       "Petrol      3535\n",
       "Diesel        37\n",
       "Hybrid        30\n",
       "Electric       5\n",
       "Name: Fuel, dtype: int64"
      ]
     },
     "execution_count": 125,
     "metadata": {},
     "output_type": "execute_result"
    }
   ],
   "source": [
    "data['Fuel'].value_counts()"
   ]
  },
  {
   "cell_type": "code",
   "execution_count": 126,
   "id": "78af66fa",
   "metadata": {},
   "outputs": [],
   "source": [
    "data['Fuel']=data['Fuel'].fillna('Petrol')"
   ]
  },
  {
   "cell_type": "code",
   "execution_count": 127,
   "id": "583e4a8c",
   "metadata": {},
   "outputs": [
    {
     "data": {
      "text/plain": [
       "Unnamed: 0                0\n",
       "Make                      0\n",
       "Year of manufacture       0\n",
       "Condition                 0\n",
       "Mileage                   0\n",
       "Engine Size               0\n",
       "Fuel                      0\n",
       "Transmission             20\n",
       "Price                     0\n",
       "Build                  2968\n",
       "dtype: int64"
      ]
     },
     "execution_count": 127,
     "metadata": {},
     "output_type": "execute_result"
    }
   ],
   "source": [
    "data.isnull().sum()"
   ]
  },
  {
   "cell_type": "code",
   "execution_count": 128,
   "id": "1d014ed6",
   "metadata": {},
   "outputs": [
    {
     "data": {
      "text/plain": [
       "Automatic    3810\n",
       "Manual        230\n",
       "CVT            22\n",
       "AMT            13\n",
       "Name: Transmission, dtype: int64"
      ]
     },
     "execution_count": 128,
     "metadata": {},
     "output_type": "execute_result"
    }
   ],
   "source": [
    "data['Transmission'].value_counts()"
   ]
  },
  {
   "cell_type": "code",
   "execution_count": 129,
   "id": "29e5c449",
   "metadata": {},
   "outputs": [],
   "source": [
    "data['Transmission']=data['Transmission'].fillna('Automatic')"
   ]
  },
  {
   "cell_type": "code",
   "execution_count": 130,
   "id": "badf0cd7",
   "metadata": {},
   "outputs": [
    {
     "data": {
      "text/plain": [
       "Unnamed: 0                0\n",
       "Make                      0\n",
       "Year of manufacture       0\n",
       "Condition                 0\n",
       "Mileage                   0\n",
       "Engine Size               0\n",
       "Fuel                      0\n",
       "Transmission              0\n",
       "Price                     0\n",
       "Build                  2968\n",
       "dtype: int64"
      ]
     },
     "execution_count": 130,
     "metadata": {},
     "output_type": "execute_result"
    }
   ],
   "source": [
    "data.isnull().sum()"
   ]
  },
  {
   "cell_type": "code",
   "execution_count": 131,
   "id": "c2a319d5",
   "metadata": {},
   "outputs": [],
   "source": [
    "data['Build']=data['Build'].fillna('other')"
   ]
  },
  {
   "cell_type": "code",
   "execution_count": 132,
   "id": "92432e49",
   "metadata": {},
   "outputs": [
    {
     "data": {
      "text/plain": [
       "Unnamed: 0             0\n",
       "Make                   0\n",
       "Year of manufacture    0\n",
       "Condition              0\n",
       "Mileage                0\n",
       "Engine Size            0\n",
       "Fuel                   0\n",
       "Transmission           0\n",
       "Price                  0\n",
       "Build                  0\n",
       "dtype: int64"
      ]
     },
     "execution_count": 132,
     "metadata": {},
     "output_type": "execute_result"
    }
   ],
   "source": [
    "data.isnull().sum()"
   ]
  },
  {
   "cell_type": "code",
   "execution_count": 133,
   "id": "f908c608",
   "metadata": {},
   "outputs": [
    {
     "data": {
      "text/plain": [
       "<seaborn.axisgrid.FacetGrid at 0x1582f5bae50>"
      ]
     },
     "execution_count": 133,
     "metadata": {},
     "output_type": "execute_result"
    },
    {
     "data": {
      "image/png": "[encoded data removed]",
      "text/plain": [
       "<Figure size 500x500 with 1 Axes>"
      ]
     },
     "metadata": {},
     "output_type": "display_data"
    },
    {
     "data": {
      "image/png": "[encoded data removed]",
      "text/plain": [
       "<Figure size 500x500 with 1 Axes>"
      ]
     },
     "metadata": {},
     "output_type": "display_data"
    },
    {
     "data": {
      "image/png": "[encoded data removed]",
      "text/plain": [
       "<Figure size 500x500 with 1 Axes>"
      ]
     },
     "metadata": {},
     "output_type": "display_data"
    }
   ],
   "source": [
    "\n",
    "sns.displot(data['Year of manufacture'])\n",
    "sns.displot(data['Mileage'])\n",
    "sns.displot(data['Engine Size'])\n",
    "\n",
    "\n",
    "\n",
    "\n",
    "\n",
    "\n",
    "\n"
   ]
  },
  {
   "cell_type": "code",
   "execution_count": 134,
   "id": "e6d5df25",
   "metadata": {},
   "outputs": [],
   "source": [
    "q = data['Mileage'].quantile(0.99)\n",
    "data = data[data['Mileage']<q]\n"
   ]
  },
  {
   "cell_type": "code",
   "execution_count": 135,
   "id": "b5789382",
   "metadata": {},
   "outputs": [
    {
     "data": {
      "image/png": "[encoded data removed]",
      "text/plain": [
       "<Figure size 1500x300 with 3 Axes>"
      ]
     },
     "metadata": {},
     "output_type": "display_data"
    }
   ],
   "source": [
    "f, (ax1, ax2, ax3) = plt.subplots(1, 3, sharey=True, figsize =(15,3))\n",
    "ax1.scatter(data['Year of manufacture'],data['Price'])\n",
    "ax1.set_title('Price and Year')\n",
    "ax2.scatter(data['Engine Size'],data['Price'])\n",
    "ax2.set_title('Price and Engine Size')\n",
    "ax3.scatter(data['Mileage'],data['Price'])\n",
    "ax3.set_title('Price and Mileage')\n",
    "plt.show()"
   ]
  },
  {
   "cell_type": "code",
   "execution_count": 136,
   "id": "d6f39099",
   "metadata": {},
   "outputs": [
    {
     "name": "stderr",
     "output_type": "stream",
     "text": [
      "C:\\Users\\habib\\AppData\\Local\\Temp\\ipykernel_10396\\2757966859.py:3: SettingWithCopyWarning: \n",
      "A value is trying to be set on a copy of a slice from a DataFrame.\n",
      "Try using .loc[row_indexer,col_indexer] = value instead\n",
      "\n",
      "See the caveats in the documentation: https://pandas.pydata.org/pandas-docs/stable/user_guide/indexing.html#returning-a-view-versus-a-copy\n",
      "  data['log_price'] = log_price\n"
     ]
    }
   ],
   "source": [
    "log_price = np.log(data['Price'])\n",
    "\n",
    "data['log_price'] = log_price"
   ]
  },
  {
   "cell_type": "code",
   "execution_count": 137,
   "id": "c7a09af7",
   "metadata": {},
   "outputs": [
    {
     "data": {
      "text/html": [
       "<div>\n",
       "<style scoped>\n",
       "    .dataframe tbody tr th:only-of-type {\n",
       "        vertical-align: middle;\n",
       "    }\n",
       "\n",
       "    .dataframe tbody tr th {\n",
       "        vertical-align: top;\n",
       "    }\n",
       "\n",
       "    .dataframe thead th {\n",
       "        text-align: right;\n",
       "    }\n",
       "</style>\n",
       "<table border=\"1\" class=\"dataframe\">\n",
       "  <thead>\n",
       "    <tr style=\"text-align: right;\">\n",
       "      <th></th>\n",
       "      <th>Unnamed: 0</th>\n",
       "      <th>Make</th>\n",
       "      <th>Year of manufacture</th>\n",
       "      <th>Condition</th>\n",
       "      <th>Mileage</th>\n",
       "      <th>Engine Size</th>\n",
       "      <th>Fuel</th>\n",
       "      <th>Transmission</th>\n",
       "      <th>Price</th>\n",
       "      <th>Build</th>\n",
       "      <th>log_price</th>\n",
       "    </tr>\n",
       "  </thead>\n",
       "  <tbody>\n",
       "    <tr>\n",
       "      <th>0</th>\n",
       "      <td>0</td>\n",
       "      <td>Toyota</td>\n",
       "      <td>2007.0</td>\n",
       "      <td>Nigerian Used</td>\n",
       "      <td>166418.0</td>\n",
       "      <td>2400.000000</td>\n",
       "      <td>Petrol</td>\n",
       "      <td>Automatic</td>\n",
       "      <td>3120000.0</td>\n",
       "      <td>other</td>\n",
       "      <td>14.953344</td>\n",
       "    </tr>\n",
       "    <tr>\n",
       "      <th>1</th>\n",
       "      <td>1</td>\n",
       "      <td>Lexus</td>\n",
       "      <td>2007.0</td>\n",
       "      <td>Nigerian Used</td>\n",
       "      <td>138024.0</td>\n",
       "      <td>3274.976562</td>\n",
       "      <td>Petrol</td>\n",
       "      <td>Automatic</td>\n",
       "      <td>5834000.0</td>\n",
       "      <td>other</td>\n",
       "      <td>15.579213</td>\n",
       "    </tr>\n",
       "    <tr>\n",
       "      <th>2</th>\n",
       "      <td>2</td>\n",
       "      <td>Mercedes-Benz</td>\n",
       "      <td>2008.0</td>\n",
       "      <td>Nigerian Used</td>\n",
       "      <td>376807.0</td>\n",
       "      <td>3000.000000</td>\n",
       "      <td>Petrol</td>\n",
       "      <td>Automatic</td>\n",
       "      <td>3640000.0</td>\n",
       "      <td>other</td>\n",
       "      <td>15.107494</td>\n",
       "    </tr>\n",
       "    <tr>\n",
       "      <th>3</th>\n",
       "      <td>3</td>\n",
       "      <td>Lexus</td>\n",
       "      <td>2007.0</td>\n",
       "      <td>Nigerian Used</td>\n",
       "      <td>213362.0</td>\n",
       "      <td>3274.976562</td>\n",
       "      <td>Petrol</td>\n",
       "      <td>Automatic</td>\n",
       "      <td>3594000.0</td>\n",
       "      <td>other</td>\n",
       "      <td>15.094776</td>\n",
       "    </tr>\n",
       "    <tr>\n",
       "      <th>4</th>\n",
       "      <td>4</td>\n",
       "      <td>Mercedes-Benz</td>\n",
       "      <td>2007.0</td>\n",
       "      <td>Nigerian Used</td>\n",
       "      <td>106199.0</td>\n",
       "      <td>3274.976562</td>\n",
       "      <td>Petrol</td>\n",
       "      <td>Automatic</td>\n",
       "      <td>8410000.0</td>\n",
       "      <td>other</td>\n",
       "      <td>15.944932</td>\n",
       "    </tr>\n",
       "    <tr>\n",
       "      <th>...</th>\n",
       "      <td>...</td>\n",
       "      <td>...</td>\n",
       "      <td>...</td>\n",
       "      <td>...</td>\n",
       "      <td>...</td>\n",
       "      <td>...</td>\n",
       "      <td>...</td>\n",
       "      <td>...</td>\n",
       "      <td>...</td>\n",
       "      <td>...</td>\n",
       "      <td>...</td>\n",
       "    </tr>\n",
       "    <tr>\n",
       "      <th>4090</th>\n",
       "      <td>4090</td>\n",
       "      <td>Honda</td>\n",
       "      <td>2004.0</td>\n",
       "      <td>Nigerian Used</td>\n",
       "      <td>207446.0</td>\n",
       "      <td>3500.000000</td>\n",
       "      <td>Petrol</td>\n",
       "      <td>Automatic</td>\n",
       "      <td>1125000.0</td>\n",
       "      <td>other</td>\n",
       "      <td>13.933294</td>\n",
       "    </tr>\n",
       "    <tr>\n",
       "      <th>4091</th>\n",
       "      <td>4091</td>\n",
       "      <td>Toyota</td>\n",
       "      <td>2005.0</td>\n",
       "      <td>Nigerian Used</td>\n",
       "      <td>106914.0</td>\n",
       "      <td>1800.000000</td>\n",
       "      <td>Petrol</td>\n",
       "      <td>Automatic</td>\n",
       "      <td>2643750.0</td>\n",
       "      <td>other</td>\n",
       "      <td>14.787709</td>\n",
       "    </tr>\n",
       "    <tr>\n",
       "      <th>4092</th>\n",
       "      <td>4092</td>\n",
       "      <td>Honda</td>\n",
       "      <td>2006.0</td>\n",
       "      <td>Nigerian Used</td>\n",
       "      <td>247149.0</td>\n",
       "      <td>1800.000000</td>\n",
       "      <td>Petrol</td>\n",
       "      <td>Automatic</td>\n",
       "      <td>1462500.0</td>\n",
       "      <td>other</td>\n",
       "      <td>14.195658</td>\n",
       "    </tr>\n",
       "    <tr>\n",
       "      <th>4093</th>\n",
       "      <td>4093</td>\n",
       "      <td>Toyota</td>\n",
       "      <td>2007.0</td>\n",
       "      <td>Nigerian Used</td>\n",
       "      <td>249325.0</td>\n",
       "      <td>2500.000000</td>\n",
       "      <td>Petrol</td>\n",
       "      <td>Automatic</td>\n",
       "      <td>2475000.0</td>\n",
       "      <td>other</td>\n",
       "      <td>14.721751</td>\n",
       "    </tr>\n",
       "    <tr>\n",
       "      <th>4094</th>\n",
       "      <td>4094</td>\n",
       "      <td>Toyota</td>\n",
       "      <td>2013.0</td>\n",
       "      <td>Foreign Used</td>\n",
       "      <td>235184.0</td>\n",
       "      <td>2500.000000</td>\n",
       "      <td>Petrol</td>\n",
       "      <td>Automatic</td>\n",
       "      <td>6300000.0</td>\n",
       "      <td>other</td>\n",
       "      <td>15.656060</td>\n",
       "    </tr>\n",
       "  </tbody>\n",
       "</table>\n",
       "<p>4052 rows × 11 columns</p>\n",
       "</div>"
      ],
      "text/plain": [
       "      Unnamed: 0           Make  Year of manufacture      Condition   Mileage  \\\n",
       "0              0         Toyota               2007.0  Nigerian Used  166418.0   \n",
       "1              1          Lexus               2007.0  Nigerian Used  138024.0   \n",
       "2              2  Mercedes-Benz               2008.0  Nigerian Used  376807.0   \n",
       "3              3          Lexus               2007.0  Nigerian Used  213362.0   \n",
       "4              4  Mercedes-Benz               2007.0  Nigerian Used  106199.0   \n",
       "...          ...            ...                  ...            ...       ...   \n",
       "4090        4090          Honda               2004.0  Nigerian Used  207446.0   \n",
       "4091        4091         Toyota               2005.0  Nigerian Used  106914.0   \n",
       "4092        4092          Honda               2006.0  Nigerian Used  247149.0   \n",
       "4093        4093         Toyota               2007.0  Nigerian Used  249325.0   \n",
       "4094        4094         Toyota               2013.0   Foreign Used  235184.0   \n",
       "\n",
       "      Engine Size    Fuel Transmission      Price  Build  log_price  \n",
       "0     2400.000000  Petrol    Automatic  3120000.0  other  14.953344  \n",
       "1     3274.976562  Petrol    Automatic  5834000.0  other  15.579213  \n",
       "2     3000.000000  Petrol    Automatic  3640000.0  other  15.107494  \n",
       "3     3274.976562  Petrol    Automatic  3594000.0  other  15.094776  \n",
       "4     3274.976562  Petrol    Automatic  8410000.0  other  15.944932  \n",
       "...           ...     ...          ...        ...    ...        ...  \n",
       "4090  3500.000000  Petrol    Automatic  1125000.0  other  13.933294  \n",
       "4091  1800.000000  Petrol    Automatic  2643750.0  other  14.787709  \n",
       "4092  1800.000000  Petrol    Automatic  1462500.0  other  14.195658  \n",
       "4093  2500.000000  Petrol    Automatic  2475000.0  other  14.721751  \n",
       "4094  2500.000000  Petrol    Automatic  6300000.0  other  15.656060  \n",
       "\n",
       "[4052 rows x 11 columns]"
      ]
     },
     "execution_count": 137,
     "metadata": {},
     "output_type": "execute_result"
    }
   ],
   "source": [
    "data"
   ]
  },
  {
   "cell_type": "code",
   "execution_count": 138,
   "id": "2a77ebac",
   "metadata": {},
   "outputs": [
    {
     "data": {
      "image/png": "[encoded data removed]",
      "text/plain": [
       "<Figure size 1500x300 with 3 Axes>"
      ]
     },
     "metadata": {},
     "output_type": "display_data"
    }
   ],
   "source": [
    "f, (ax1, ax2, ax3) = plt.subplots(1, 3, sharey=True, figsize =(15,3))\n",
    "ax1.scatter(data['Year of manufacture'],data['log_price'])\n",
    "ax1.set_title('log_price and Year')\n",
    "ax2.scatter(data['Engine Size'],data['log_price'])\n",
    "ax2.set_title('log_price and Engine Size')\n",
    "ax3.scatter(data['Mileage'],data['log_price'])\n",
    "ax3.set_title(' log_price and Mileage')\n",
    "plt.show()"
   ]
  },
  {
   "cell_type": "code",
   "execution_count": 139,
   "id": "4bf847a3",
   "metadata": {},
   "outputs": [
    {
     "data": {
      "image/png": "[encoded data removed]",
      "text/plain": [
       "<Figure size 800x600 with 1 Axes>"
      ]
     },
     "metadata": {},
     "output_type": "display_data"
    }
   ],
   "source": [
    "import matplotlib.pyplot as plt\n",
    "\n",
    "# Assuming you have a DataFrame named 'data'\n",
    "plt.figure(figsize=(8, 6))\n",
    "plt.hist(data['log_price'], bins=20, edgecolor='k', alpha=0.9)\n",
    "plt.title('Distribution of log Price')\n",
    "plt.xlabel('log Price')\n",
    "plt.ylabel('Frequency')\n",
    "plt.grid(True)\n",
    "plt.show()"
   ]
  },
  {
   "cell_type": "code",
   "execution_count": 140,
   "id": "e8b235d2",
   "metadata": {},
   "outputs": [
    {
     "data": {
      "text/plain": [
       "<Axes: xlabel='Transmission', ylabel='count'>"
      ]
     },
     "execution_count": 140,
     "metadata": {},
     "output_type": "execute_result"
    },
    {
     "data": {
      "image/png": "[encoded data removed]",
      "text/plain": [
       "<Figure size 640x480 with 1 Axes>"
      ]
     },
     "metadata": {},
     "output_type": "display_data"
    }
   ],
   "source": [
    "sns.countplot(x=data['Transmission'])"
   ]
  },
  {
   "cell_type": "code",
   "execution_count": 141,
   "id": "7ec554c1",
   "metadata": {
    "scrolled": true
   },
   "outputs": [
    {
     "data": {
      "text/plain": [
       "<Axes: xlabel='Fuel', ylabel='count'>"
      ]
     },
     "execution_count": 141,
     "metadata": {},
     "output_type": "execute_result"
    },
    {
     "data": {
      "image/png": "[encoded data removed]",
      "text/plain": [
       "<Figure size 640x480 with 1 Axes>"
      ]
     },
     "metadata": {},
     "output_type": "display_data"
    }
   ],
   "source": [
    "sns.countplot(x=data['Fuel'])"
   ]
  },
  {
   "cell_type": "code",
   "execution_count": 142,
   "id": "52f300bd",
   "metadata": {},
   "outputs": [
    {
     "data": {
      "text/plain": [
       "<Axes: xlabel='Condition', ylabel='count'>"
      ]
     },
     "execution_count": 142,
     "metadata": {},
     "output_type": "execute_result"
    },
    {
     "data": {
      "image/png": "[encoded data removed]",
      "text/plain": [
       "<Figure size 640x480 with 1 Axes>"
      ]
     },
     "metadata": {},
     "output_type": "display_data"
    }
   ],
   "source": [
    "sns.countplot(x=data['Condition'])"
   ]
  },
  {
   "cell_type": "code",
   "execution_count": 143,
   "id": "6306265e",
   "metadata": {},
   "outputs": [
    {
     "data": {
      "text/plain": [
       "Toyota           1454\n",
       "Lexus             460\n",
       "Mercedes-Benz     429\n",
       "Honda             422\n",
       "Ford              196\n",
       "Hyundai           178\n",
       "Nissan            172\n",
       "Kia                90\n",
       "Land Rover         73\n",
       "Volkswagen         64\n",
       "Mazda              63\n",
       "BMW                63\n",
       "Acura              56\n",
       "Infiniti           41\n",
       "Chevrolet          40\n",
       "Peugeot            32\n",
       "Mitsubishi         23\n",
       "Pontiac            22\n",
       "Suzuki             21\n",
       "Volvo              21\n",
       "Dodge              15\n",
       "Audi               14\n",
       "Opel               12\n",
       "Jaguar             11\n",
       "Jeep               11\n",
       "Porsche             9\n",
       "Renault             8\n",
       "Chrysler            7\n",
       "Fiat                6\n",
       "GMC                 5\n",
       "Changan             4\n",
       "Lincoln             4\n",
       "Skoda               3\n",
       "Hummer              2\n",
       "Buick               2\n",
       "JAC                 2\n",
       "Citroen             2\n",
       "Isuzu               2\n",
       "Mini                2\n",
       "MG                  2\n",
       "Rover               1\n",
       "Bentley             1\n",
       "Seat                1\n",
       "SsangYong           1\n",
       "Cadillac            1\n",
       "Saturn              1\n",
       "Tata                1\n",
       "Foton               1\n",
       "Daihatsu            1\n",
       "Name: Make, dtype: int64"
      ]
     },
     "execution_count": 143,
     "metadata": {},
     "output_type": "execute_result"
    }
   ],
   "source": [
    "data['Make'].value_counts()"
   ]
  },
  {
   "cell_type": "code",
   "execution_count": 144,
   "id": "8c1d643e",
   "metadata": {},
   "outputs": [
    {
     "name": "stderr",
     "output_type": "stream",
     "text": [
      "C:\\Users\\habib\\AppData\\Local\\Temp\\ipykernel_10396\\3292535560.py:1: SettingWithCopyWarning: \n",
      "A value is trying to be set on a copy of a slice from a DataFrame\n",
      "\n",
      "See the caveats in the documentation: https://pandas.pydata.org/pandas-docs/stable/user_guide/indexing.html#returning-a-view-versus-a-copy\n",
      "  data.drop(['Unnamed: 0','Make'], axis=1, inplace=True)\n"
     ]
    }
   ],
   "source": [
    "data.drop(['Unnamed: 0','Make'], axis=1, inplace=True)"
   ]
  },
  {
   "cell_type": "code",
   "execution_count": 145,
   "id": "ae0c9ba9",
   "metadata": {},
   "outputs": [
    {
     "data": {
      "text/html": [
       "<div>\n",
       "<style scoped>\n",
       "    .dataframe tbody tr th:only-of-type {\n",
       "        vertical-align: middle;\n",
       "    }\n",
       "\n",
       "    .dataframe tbody tr th {\n",
       "        vertical-align: top;\n",
       "    }\n",
       "\n",
       "    .dataframe thead th {\n",
       "        text-align: right;\n",
       "    }\n",
       "</style>\n",
       "<table border=\"1\" class=\"dataframe\">\n",
       "  <thead>\n",
       "    <tr style=\"text-align: right;\">\n",
       "      <th></th>\n",
       "      <th>Year of manufacture</th>\n",
       "      <th>Condition</th>\n",
       "      <th>Mileage</th>\n",
       "      <th>Engine Size</th>\n",
       "      <th>Fuel</th>\n",
       "      <th>Transmission</th>\n",
       "      <th>Price</th>\n",
       "      <th>Build</th>\n",
       "      <th>log_price</th>\n",
       "    </tr>\n",
       "  </thead>\n",
       "  <tbody>\n",
       "    <tr>\n",
       "      <th>0</th>\n",
       "      <td>2007.0</td>\n",
       "      <td>Nigerian Used</td>\n",
       "      <td>166418.0</td>\n",
       "      <td>2400.000000</td>\n",
       "      <td>Petrol</td>\n",
       "      <td>Automatic</td>\n",
       "      <td>3120000.0</td>\n",
       "      <td>other</td>\n",
       "      <td>14.953344</td>\n",
       "    </tr>\n",
       "    <tr>\n",
       "      <th>1</th>\n",
       "      <td>2007.0</td>\n",
       "      <td>Nigerian Used</td>\n",
       "      <td>138024.0</td>\n",
       "      <td>3274.976562</td>\n",
       "      <td>Petrol</td>\n",
       "      <td>Automatic</td>\n",
       "      <td>5834000.0</td>\n",
       "      <td>other</td>\n",
       "      <td>15.579213</td>\n",
       "    </tr>\n",
       "    <tr>\n",
       "      <th>2</th>\n",
       "      <td>2008.0</td>\n",
       "      <td>Nigerian Used</td>\n",
       "      <td>376807.0</td>\n",
       "      <td>3000.000000</td>\n",
       "      <td>Petrol</td>\n",
       "      <td>Automatic</td>\n",
       "      <td>3640000.0</td>\n",
       "      <td>other</td>\n",
       "      <td>15.107494</td>\n",
       "    </tr>\n",
       "    <tr>\n",
       "      <th>3</th>\n",
       "      <td>2007.0</td>\n",
       "      <td>Nigerian Used</td>\n",
       "      <td>213362.0</td>\n",
       "      <td>3274.976562</td>\n",
       "      <td>Petrol</td>\n",
       "      <td>Automatic</td>\n",
       "      <td>3594000.0</td>\n",
       "      <td>other</td>\n",
       "      <td>15.094776</td>\n",
       "    </tr>\n",
       "    <tr>\n",
       "      <th>4</th>\n",
       "      <td>2007.0</td>\n",
       "      <td>Nigerian Used</td>\n",
       "      <td>106199.0</td>\n",
       "      <td>3274.976562</td>\n",
       "      <td>Petrol</td>\n",
       "      <td>Automatic</td>\n",
       "      <td>8410000.0</td>\n",
       "      <td>other</td>\n",
       "      <td>15.944932</td>\n",
       "    </tr>\n",
       "    <tr>\n",
       "      <th>...</th>\n",
       "      <td>...</td>\n",
       "      <td>...</td>\n",
       "      <td>...</td>\n",
       "      <td>...</td>\n",
       "      <td>...</td>\n",
       "      <td>...</td>\n",
       "      <td>...</td>\n",
       "      <td>...</td>\n",
       "      <td>...</td>\n",
       "    </tr>\n",
       "    <tr>\n",
       "      <th>4090</th>\n",
       "      <td>2004.0</td>\n",
       "      <td>Nigerian Used</td>\n",
       "      <td>207446.0</td>\n",
       "      <td>3500.000000</td>\n",
       "      <td>Petrol</td>\n",
       "      <td>Automatic</td>\n",
       "      <td>1125000.0</td>\n",
       "      <td>other</td>\n",
       "      <td>13.933294</td>\n",
       "    </tr>\n",
       "    <tr>\n",
       "      <th>4091</th>\n",
       "      <td>2005.0</td>\n",
       "      <td>Nigerian Used</td>\n",
       "      <td>106914.0</td>\n",
       "      <td>1800.000000</td>\n",
       "      <td>Petrol</td>\n",
       "      <td>Automatic</td>\n",
       "      <td>2643750.0</td>\n",
       "      <td>other</td>\n",
       "      <td>14.787709</td>\n",
       "    </tr>\n",
       "    <tr>\n",
       "      <th>4092</th>\n",
       "      <td>2006.0</td>\n",
       "      <td>Nigerian Used</td>\n",
       "      <td>247149.0</td>\n",
       "      <td>1800.000000</td>\n",
       "      <td>Petrol</td>\n",
       "      <td>Automatic</td>\n",
       "      <td>1462500.0</td>\n",
       "      <td>other</td>\n",
       "      <td>14.195658</td>\n",
       "    </tr>\n",
       "    <tr>\n",
       "      <th>4093</th>\n",
       "      <td>2007.0</td>\n",
       "      <td>Nigerian Used</td>\n",
       "      <td>249325.0</td>\n",
       "      <td>2500.000000</td>\n",
       "      <td>Petrol</td>\n",
       "      <td>Automatic</td>\n",
       "      <td>2475000.0</td>\n",
       "      <td>other</td>\n",
       "      <td>14.721751</td>\n",
       "    </tr>\n",
       "    <tr>\n",
       "      <th>4094</th>\n",
       "      <td>2013.0</td>\n",
       "      <td>Foreign Used</td>\n",
       "      <td>235184.0</td>\n",
       "      <td>2500.000000</td>\n",
       "      <td>Petrol</td>\n",
       "      <td>Automatic</td>\n",
       "      <td>6300000.0</td>\n",
       "      <td>other</td>\n",
       "      <td>15.656060</td>\n",
       "    </tr>\n",
       "  </tbody>\n",
       "</table>\n",
       "<p>4052 rows × 9 columns</p>\n",
       "</div>"
      ],
      "text/plain": [
       "      Year of manufacture      Condition   Mileage  Engine Size    Fuel  \\\n",
       "0                  2007.0  Nigerian Used  166418.0  2400.000000  Petrol   \n",
       "1                  2007.0  Nigerian Used  138024.0  3274.976562  Petrol   \n",
       "2                  2008.0  Nigerian Used  376807.0  3000.000000  Petrol   \n",
       "3                  2007.0  Nigerian Used  213362.0  3274.976562  Petrol   \n",
       "4                  2007.0  Nigerian Used  106199.0  3274.976562  Petrol   \n",
       "...                   ...            ...       ...          ...     ...   \n",
       "4090               2004.0  Nigerian Used  207446.0  3500.000000  Petrol   \n",
       "4091               2005.0  Nigerian Used  106914.0  1800.000000  Petrol   \n",
       "4092               2006.0  Nigerian Used  247149.0  1800.000000  Petrol   \n",
       "4093               2007.0  Nigerian Used  249325.0  2500.000000  Petrol   \n",
       "4094               2013.0   Foreign Used  235184.0  2500.000000  Petrol   \n",
       "\n",
       "     Transmission      Price  Build  log_price  \n",
       "0       Automatic  3120000.0  other  14.953344  \n",
       "1       Automatic  5834000.0  other  15.579213  \n",
       "2       Automatic  3640000.0  other  15.107494  \n",
       "3       Automatic  3594000.0  other  15.094776  \n",
       "4       Automatic  8410000.0  other  15.944932  \n",
       "...           ...        ...    ...        ...  \n",
       "4090    Automatic  1125000.0  other  13.933294  \n",
       "4091    Automatic  2643750.0  other  14.787709  \n",
       "4092    Automatic  1462500.0  other  14.195658  \n",
       "4093    Automatic  2475000.0  other  14.721751  \n",
       "4094    Automatic  6300000.0  other  15.656060  \n",
       "\n",
       "[4052 rows x 9 columns]"
      ]
     },
     "execution_count": 145,
     "metadata": {},
     "output_type": "execute_result"
    }
   ],
   "source": [
    "data"
   ]
  }
 ],
 "metadata": {
  "kernelspec": {
   "display_name": "Python 3 (ipykernel)",
   "language": "python",
   "name": "python3"
  },
  "language_info": {
   "codemirror_mode": {
    "name": "ipython",
    "version": 3
   },
   "file_extension": ".py",
   "mimetype": "text/x-python",
   "name": "python",
   "nbconvert_exporter": "python",
   "pygments_lexer": "ipython3",
   "version": "3.11.3"
  }
 },
 "nbformat": 4,
 "nbformat_minor": 5
}
